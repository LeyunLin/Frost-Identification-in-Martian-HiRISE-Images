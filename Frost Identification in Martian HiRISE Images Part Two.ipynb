{
 "cells": [
  {
   "cell_type": "markdown",
   "metadata": {},
   "source": [
    "# Leveraging Transfer Learning for Image Classification"
   ]
  },
  {
   "cell_type": "code",
   "execution_count": 1,
   "metadata": {},
   "outputs": [],
   "source": [
    "import os\n",
    "import os.path as op\n",
    "import json\n",
    "from pathlib import Path\n",
    "import shutil\n",
    "import logging\n",
    "import numpy as np\n",
    "from tqdm import tqdm\n",
    "from skimage import io"
   ]
  },
  {
   "cell_type": "markdown",
   "metadata": {},
   "source": [
    "## Objective:"
   ]
  },
  {
   "cell_type": "markdown",
   "metadata": {},
   "source": [
    "Delve into the realm of transfer learning to enhance the classification performance of relatively small image datasets. The primary challenge lies in the scarcity of data, hindering the optimal performance of deep networks. This research project employs pre-trained models such as EfficientNetB0, ResNet50, and VGG16, utilizing their learned features from extensive datasets like ImageNet to improve classification accuracy on a novel task."
   ]
  },
  {
   "cell_type": "code",
   "execution_count": 2,
   "metadata": {},
   "outputs": [],
   "source": [
    "# Logging configuration\n",
    "logging.basicConfig(level=logging.INFO,\n",
    "                    datefmt='%H:%M:%S',\n",
    "                    format='%(asctime)s | %(levelname)-5s | %(module)-15s | %(message)s')\n",
    "\n",
    "IMAGE_SIZE = (299, 299)  # All images contained in this dataset are 299x299 (originally, to match Inception v3 input size)\n",
    "SEED = 17\n",
    "\n",
    "# Head directory containing all image subframes. Update with the relative path of your data directory\n",
    "data_head_dir = Path('./data')\n",
    "\n",
    "# Find all subframe directories\n",
    "subdirs = [Path(subdir.stem) for subdir in data_head_dir.iterdir() if subdir.is_dir()]\n",
    "src_image_ids = ['_'.join(a_path.name.split('_')[:3]) for a_path in subdirs]"
   ]
  },
  {
   "cell_type": "code",
   "execution_count": 3,
   "metadata": {},
   "outputs": [],
   "source": [
    "# Load train/val/test subframe IDs\n",
    "def load_text_ids(file_path):\n",
    "    \"\"\"Simple helper to load all lines from a text file\"\"\"\n",
    "    with open(file_path, 'r') as f:\n",
    "        lines = [line.strip() for line in f.readlines()]\n",
    "    return lines\n",
    "\n",
    "# Load the subframe names for the three data subsets\n",
    "train_ids = load_text_ids('./train_source_images.txt')\n",
    "validate_ids = load_text_ids('./val_source_images.txt')\n",
    "test_ids = load_text_ids('./test_source_images.txt')\n",
    "\n",
    "# Generate a list containing the dataset split for the matching subdirectory names\n",
    "subdir_splits = []\n",
    "for src_id in src_image_ids:\n",
    "    if src_id in train_ids:\n",
    "        subdir_splits.append('train')\n",
    "    elif src_id in validate_ids:\n",
    "        subdir_splits.append('validate')\n",
    "    elif(src_id in test_ids):\n",
    "        subdir_splits.append('test')\n",
    "    else:\n",
    "        logging.warning(f'{src_id}: Did not find designated split in train/validate/test list.')\n",
    "        subdir_splits.append(None)"
   ]
  },
  {
   "cell_type": "markdown",
   "metadata": {},
   "source": [
    "## Loading and pre processing the data"
   ]
  },
  {
   "cell_type": "code",
   "execution_count": 4,
   "metadata": {},
   "outputs": [
    {
     "name": "stderr",
     "output_type": "stream",
     "text": [
      "03:22:21 | INFO  | utils           | NumExpr defaulting to 8 threads.\n"
     ]
    }
   ],
   "source": [
    "import random\n",
    "import tensorflow as tf\n",
    "from PIL import Image \n",
    "\n",
    "def load_and_preprocess(img_loc, label):\n",
    "    def _inner_function(img_loc, label):\n",
    "        # Convert tensor to native type\n",
    "        img_loc_str = img_loc.numpy().decode('utf-8')\n",
    "        \n",
    "        # Load image using PIL and convert to RGB\n",
    "        img = Image.open(img_loc_str).convert('RGB')\n",
    "        \n",
    "        # Convert PIL image to numpy array\n",
    "        img = np.array(img)\n",
    "        img = tf.image.resize(img, [299, 299])\n",
    "        \n",
    "        # Normalize the image to the [0, 1] range\n",
    "        img = img / 255.0\n",
    "\n",
    "        # Convert label to integer (assuming binary classification)\n",
    "        label = 1 if label.numpy().decode('utf-8') == 'frost' else 0\n",
    "        \n",
    "        return img, label\n",
    "\n",
    "    # Wrap the Python function\n",
    "    X, y = tf.py_function(_inner_function, [img_loc, label], [tf.float32, tf.int64])\n",
    "    \n",
    "    # Set the shape of the tensors\n",
    "    X.set_shape([299, 299, 3])\n",
    "    y.set_shape([])  # Scalar label\n",
    "    \n",
    "    return X, y\n",
    "\n",
    "def load_subdir_data(dir_path, image_size, seed=None):\n",
    "    \n",
    "    \"\"\"Helper to create a TF dataset from each image subdirectory\"\"\"\n",
    "    \n",
    "    # Grab only the classes that (1) we want to keep and (2) exist in this directory\n",
    "    tile_dir = dir_path / Path('tiles')\n",
    "    label_dir = dir_path /Path('labels')\n",
    "    \n",
    "    loc_list = []\n",
    "    \n",
    "    for folder in os.listdir(tile_dir):\n",
    "        if os.path.isdir(os.path.join(tile_dir, folder)):\n",
    "            for file in os.listdir(os.path.join(tile_dir, folder)):\n",
    "                if file.endswith(\".png\"):\n",
    "                    loc_list.append((os.path.join(os.path.join(tile_dir, folder), file), folder))\n",
    "\n",
    "    return loc_list\n",
    "\n",
    "# Loop over all subframes, loading each into a list\n",
    "tf_data_train, tf_data_test, tf_data_val = [], [], []\n",
    "tf_dataset_train, tf_dataset_test, tf_dataset_val = [], [], []\n",
    "\n",
    "# Update the batch and buffer size as per your model requirements\n",
    "buffer_size = 64\n",
    "batch_size = 32\n",
    "\n",
    "for subdir, split in zip(subdirs, subdir_splits):\n",
    "    full_path = data_head_dir / subdir\n",
    "    if split=='validate':\n",
    "        tf_data_val.extend(load_subdir_data(full_path, IMAGE_SIZE, SEED))\n",
    "    elif split=='train':\n",
    "        tf_data_train.extend(load_subdir_data(full_path, IMAGE_SIZE, SEED))\n",
    "    elif split=='test':\n",
    "        tf_data_test.extend(load_subdir_data(full_path, IMAGE_SIZE, SEED))\n",
    "        \n",
    "random.shuffle(tf_data_train)\n",
    "img_list, label_list = zip(*tf_data_train)\n",
    "img_list_t = tf.convert_to_tensor(img_list)\n",
    "lb_list_t = tf.convert_to_tensor(label_list)\n",
    "\n",
    "tf_dataset_train = tf.data.Dataset.from_tensor_slices((img_list_t, lb_list_t))\n",
    "tf_dataset_train = tf_dataset_train.map(load_and_preprocess, num_parallel_calls=tf.data.experimental.AUTOTUNE)\n",
    "tf_dataset_train = tf_dataset_train.shuffle(buffer_size=buffer_size).batch(batch_size) \n",
    "\n",
    "random.shuffle(tf_data_val)\n",
    "img_list, label_list = zip(*tf_data_val)\n",
    "img_list_t = tf.convert_to_tensor(img_list)\n",
    "lb_list_t = tf.convert_to_tensor(label_list)\n",
    "\n",
    "tf_dataset_val = tf.data.Dataset.from_tensor_slices((img_list_t, lb_list_t))\n",
    "tf_dataset_val = tf_dataset_val.map(load_and_preprocess, num_parallel_calls=tf.data.experimental.AUTOTUNE)\n",
    "tf_dataset_val = tf_dataset_val.shuffle(buffer_size=buffer_size).batch(batch_size) \n",
    "\n",
    "random.shuffle(tf_data_test)\n",
    "img_list, label_list = zip(*tf_data_train)\n",
    "img_list_t = tf.convert_to_tensor(img_list)\n",
    "lb_list_t = tf.convert_to_tensor(label_list)\n",
    "\n",
    "tf_dataset_test = tf.data.Dataset.from_tensor_slices((img_list_t, lb_list_t))\n",
    "tf_dataset_test = tf_dataset_test.map(load_and_preprocess, num_parallel_calls=tf.data.experimental.AUTOTUNE)\n",
    "tf_dataset_test = tf_dataset_test.shuffle(buffer_size=buffer_size).batch(batch_size) "
   ]
  },
  {
   "cell_type": "markdown",
   "metadata": {},
   "source": [
    "## (d) Transfer Learning"
   ]
  },
  {
   "cell_type": "markdown",
   "metadata": {},
   "source": [
    "Delve into the realm of transfer learning to enhance the classification performance of relatively small image datasets. The primary challenge lies in the scarcity of data, hindering the optimal performance of deep networks. This research project employs pre-trained models such as EfficientNetB0, ResNet50, and VGG16, utilizing their learned features from extensive datasets like ImageNet to improve classification accuracy on a novel task.\n",
    "\n"
   ]
  },
  {
   "cell_type": "markdown",
   "metadata": {},
   "source": [
    "#### (ii) Image Augmentation:"
   ]
  },
  {
   "cell_type": "markdown",
   "metadata": {},
   "source": [
    "Implement empirical regularization techniques, including cropping, random zooming, rotation, flipping, contrast adjustments, and translation using tools such as OpenCV, to augment the training set and enhance model generalization.\n"
   ]
  },
  {
   "cell_type": "code",
   "execution_count": 5,
   "metadata": {},
   "outputs": [],
   "source": [
    "import numpy as np\n",
    "import cv2\n",
    "import tensorflow as tf\n",
    "\n",
    "def augment_batch(batch_images):\n",
    "    processed_images = []\n",
    "\n",
    "    for img in batch_images.numpy():\n",
    "        # Randomly flip the image horizontally\n",
    "        if np.random.rand() > 0.5:\n",
    "            img = cv2.flip(img, 1)\n",
    "\n",
    "        # Rotate the image\n",
    "        angle = np.random.randint(-30, 30)  \n",
    "        h, w = img.shape[:2]\n",
    "        M = cv2.getRotationMatrix2D((w / 2, h / 2), angle, 1)\n",
    "        img = cv2.warpAffine(img, M, (w, h))\n",
    "\n",
    "        # Randomly zoom the image\n",
    "        min_zoom_factor = 0.8\n",
    "        max_zoom_factor = 1.2\n",
    "        zoom_factor = np.random.uniform(min_zoom_factor, max_zoom_factor)\n",
    "        h, w = img.shape[:2]\n",
    "        new_h = int(h * zoom_factor)\n",
    "        new_w = int(w * zoom_factor)\n",
    "        img = cv2.resize(img, (new_w, new_h))\n",
    "        \n",
    "        # Crop to the original size\n",
    "        start_x = max(0, (new_w - w) // 2)\n",
    "        start_y = max(0, (new_h - h) // 2)\n",
    "        img = img[start_y:start_y + h, start_x:start_x + w]\n",
    "\n",
    "        # Adjust contrast\n",
    "        contrast_factor = 1.0 + np.random.uniform(-0.5, 0.5)  \n",
    "        img = np.clip(contrast_factor * img, 0, 255).astype(np.uint8)\n",
    "\n",
    "        # Translate the image\n",
    "        tx, ty = np.random.randint(-30, 30), np.random.randint(-30, 30)  \n",
    "        translation_matrix = np.float32([[1, 0, tx], [0, 1, ty]])\n",
    "        img = cv2.warpAffine(img, translation_matrix, (w, h))\n",
    "\n",
    "        processed_images.append(img)\n",
    "\n",
    "    # Stack the processed images back into a batch\n",
    "    return np.stack(processed_images, axis=0)\n",
    "\n",
    "def apply_augmentation_to_batch(images, labels):\n",
    "    processed_images = tf.py_function(augment_batch, [images], tf.uint8)\n",
    "    processed_images.set_shape([None, 299, 299, 3]) \n",
    "\n",
    "    return processed_images, labels\n",
    "\n",
    "tf_dataset_train_augmented = tf_dataset_train.map(apply_augmentation_to_batch, num_parallel_calls=tf.data.experimental.AUTOTUNE)"
   ]
  },
  {
   "cell_type": "markdown",
   "metadata": {},
   "source": [
    "#### (iii)  Model Configuration:"
   ]
  },
  {
   "cell_type": "markdown",
   "metadata": {},
   "source": [
    "Incorporate ReLU activation functions in the last layer, a softmax layer, and batch normalization. Apply a dropout rate of 30% along with the ADAM optimizer. Batch size experimentation is encouraged, with a batch size of 8 considered reasonable."
   ]
  },
  {
   "cell_type": "code",
   "execution_count": 6,
   "metadata": {},
   "outputs": [
    {
     "name": "stdout",
     "output_type": "stream",
     "text": [
      "Model: \"sequential\"\n",
      "_________________________________________________________________\n",
      " Layer (type)                Output Shape              Param #   \n",
      "=================================================================\n",
      " conv2d (Conv2D)             (None, 297, 297, 32)      896       \n",
      "                                                                 \n",
      " batch_normalization (Batch  (None, 297, 297, 32)      128       \n",
      " Normalization)                                                  \n",
      "                                                                 \n",
      " max_pooling2d (MaxPooling2  (None, 148, 148, 32)      0         \n",
      " D)                                                              \n",
      "                                                                 \n",
      " conv2d_1 (Conv2D)           (None, 146, 146, 64)      18496     \n",
      "                                                                 \n",
      " batch_normalization_1 (Bat  (None, 146, 146, 64)      256       \n",
      " chNormalization)                                                \n",
      "                                                                 \n",
      " max_pooling2d_1 (MaxPoolin  (None, 73, 73, 64)        0         \n",
      " g2D)                                                            \n",
      "                                                                 \n",
      " conv2d_2 (Conv2D)           (None, 71, 71, 128)       73856     \n",
      "                                                                 \n",
      " batch_normalization_2 (Bat  (None, 71, 71, 128)       512       \n",
      " chNormalization)                                                \n",
      "                                                                 \n",
      " max_pooling2d_2 (MaxPoolin  (None, 35, 35, 128)       0         \n",
      " g2D)                                                            \n",
      "                                                                 \n",
      " flatten (Flatten)           (None, 156800)            0         \n",
      "                                                                 \n",
      " dense (Dense)               (None, 256)               40141056  \n",
      "                                                                 \n",
      " batch_normalization_3 (Bat  (None, 256)               1024      \n",
      " chNormalization)                                                \n",
      "                                                                 \n",
      " dropout (Dropout)           (None, 256)               0         \n",
      "                                                                 \n",
      " dense_1 (Dense)             (None, 2)                 514       \n",
      "                                                                 \n",
      "=================================================================\n",
      "Total params: 40236738 (153.49 MB)\n",
      "Trainable params: 40235778 (153.49 MB)\n",
      "Non-trainable params: 960 (3.75 KB)\n",
      "_________________________________________________________________\n"
     ]
    }
   ],
   "source": [
    "import tensorflow as tf\n",
    "from tensorflow.keras import layers, models\n",
    "\n",
    "batch_size = 8\n",
    "num_classes = 2\n",
    "\n",
    "model = models.Sequential()\n",
    "\n",
    "model.add(layers.Input(shape=(299, 299, 3)))  # Input layer\n",
    "\n",
    "# Convolutional layers with batch normalization and ReLU activation\n",
    "model.add(layers.Conv2D(32, (3, 3), activation='relu'))\n",
    "model.add(layers.BatchNormalization())\n",
    "model.add(layers.MaxPooling2D((2, 2)))\n",
    "\n",
    "model.add(layers.Conv2D(64, (3, 3), activation='relu'))\n",
    "model.add(layers.BatchNormalization())\n",
    "model.add(layers.MaxPooling2D((2, 2)))\n",
    "\n",
    "model.add(layers.Conv2D(128, (3, 3), activation='relu'))\n",
    "model.add(layers.BatchNormalization())\n",
    "model.add(layers.MaxPooling2D((2, 2)))\n",
    "\n",
    "model.add(layers.Flatten())\n",
    "\n",
    "model.add(layers.Dense(256, activation='relu'))\n",
    "model.add(layers.BatchNormalization())\n",
    "model.add(layers.Dropout(0.3))\n",
    "\n",
    "model.add(layers.Dense(num_classes, activation='softmax'))  \n",
    "\n",
    "model.compile(optimizer='adam',\n",
    "              loss='sparse_categorical_crossentropy',  \n",
    "              metrics=['accuracy'])\n",
    "\n",
    "model.summary()"
   ]
  },
  {
   "cell_type": "markdown",
   "metadata": {},
   "source": [
    "#### (iv) Training:"
   ]
  },
  {
   "cell_type": "markdown",
   "metadata": {},
   "source": [
    "Train the model using the extracted features from EfficientNetB0, ResNet50, and VGG16 for a minimum of 10 epochs (preferably 20 epochs). Implement early stopping using the validation set and preserve the network parameters that yield the lowest validation error."
   ]
  },
  {
   "cell_type": "code",
   "execution_count": null,
   "metadata": {},
   "outputs": [
    {
     "name": "stderr",
     "output_type": "stream",
     "text": [
      "03:22:29 | WARNING | optimizer       | At this time, the v2.11+ optimizer `tf.keras.optimizers.Adam` runs slowly on M1/M2 Macs, please use the legacy Keras optimizer instead, located at `tf.keras.optimizers.legacy.Adam`.\n"
     ]
    },
    {
     "name": "stdout",
     "output_type": "stream",
     "text": [
      "Epoch 1/10\n",
      "928/928 [==============================] - 11022s 12s/step - loss: 0.7058 - accuracy: 0.5980 - val_loss: 5.2820 - val_accuracy: 0.3218\n",
      "Epoch 2/10\n",
      "928/928 [==============================] - 9795s 11s/step - loss: 0.6840 - accuracy: 0.6083 - val_loss: 0.6218 - val_accuracy: 0.7376\n",
      "Epoch 3/10\n",
      "928/928 [==============================] - 5311s 6s/step - loss: 0.6751 - accuracy: 0.6116 - val_loss: 1.4336 - val_accuracy: 0.3218\n",
      "Epoch 4/10\n",
      "928/928 [==============================] - 5508s 6s/step - loss: 0.6744 - accuracy: 0.6105 - val_loss: 0.5479 - val_accuracy: 0.7761\n",
      "Epoch 5/10\n",
      "928/928 [==============================] - 5466s 6s/step - loss: 0.6706 - accuracy: 0.6125 - val_loss: 1.1726 - val_accuracy: 0.3218\n",
      "Epoch 6/10\n",
      "928/928 [==============================] - 5560s 6s/step - loss: 0.6631 - accuracy: 0.6132 - val_loss: 2.0004 - val_accuracy: 0.3218\n",
      "Epoch 7/10\n",
      "115/928 [==>...........................] - ETA: 58:17 - loss: 0.6559 - accuracy: 0.6283"
     ]
    }
   ],
   "source": [
    "import tensorflow as tf\n",
    "from tensorflow.keras.applications import ResNet50, EfficientNetB0, VGG16\n",
    "from tensorflow.keras.layers import GlobalAveragePooling2D, Dense, BatchNormalization, Dropout\n",
    "from tensorflow.keras.models import Model\n",
    "from tensorflow.keras.optimizers import Adam\n",
    "from tensorflow.keras.callbacks import EarlyStopping\n",
    "import matplotlib.pyplot as plt\n",
    "\n",
    "class TransferLearningModel:\n",
    "    def __init__(self, base_model_name, num_classes):\n",
    "        self.base_model_name = base_model_name\n",
    "        self.num_classes = num_classes\n",
    "        self.model = self.build_model()\n",
    "\n",
    "    def build_model(self):\n",
    "        if self.base_model_name == \"ResNet50\":\n",
    "            base_model = ResNet50(weights=\"imagenet\", include_top=False)\n",
    "        elif self.base_model_name == \"EfficientNetB0\":\n",
    "            base_model = EfficientNetB0(weights=\"imagenet\", include_top=False)\n",
    "        elif self.base_model_name == \"VGG16\":\n",
    "            base_model = VGG16(weights=\"imagenet\", include_top=False)\n",
    "        else:\n",
    "            raise ValueError(\"Invalid base_model_name. Supported values are 'ResNet50', 'EfficientNetB0', and 'VGG16'.\")\n",
    "\n",
    "        for layer in base_model.layers:\n",
    "            layer.trainable = False\n",
    "\n",
    "        x = base_model.output\n",
    "        x = GlobalAveragePooling2D()(x)\n",
    "        x = Dense(1024, activation='relu')(x)\n",
    "        x = BatchNormalization()(x)\n",
    "        x = Dropout(0.3)(x)\n",
    "        x = Dense(self.num_classes, activation='softmax')(x)\n",
    "\n",
    "        model = Model(inputs=base_model.input, outputs=x)\n",
    "        return model\n",
    "\n",
    "    def train(self, train_data, val_data, epochs, batch_size):\n",
    "        self.model.compile(optimizer=Adam(), loss='sparse_categorical_crossentropy', metrics=['accuracy'])\n",
    "        \n",
    "        early_stopping = EarlyStopping(monitor='val_loss', patience=10, restore_best_weights=True)\n",
    "\n",
    "        history = self.model.fit(tf_dataset_train_augmented, validation_data=val_data, epochs= 10, batch_size = batch_size, callbacks=[early_stopping])\n",
    "        return history\n",
    "\n",
    "    def plot_training_history(self, history):\n",
    "        plt.plot(history.history['loss'], label='Training Loss')\n",
    "        plt.plot(history.history['val_loss'], label='Validation Loss')\n",
    "        plt.title(\"Training and Validation Loss\")\n",
    "        plt.xlabel('Epochs')\n",
    "        plt.ylabel('Loss')\n",
    "        plt.legend()\n",
    "        plt.show()\n",
    "\n",
    "num_classes = 2  \n",
    "base_models = [\"ResNet50\", \"EfficientNetB0\", \"VGG16\"]\n",
    "\n",
    "for base_model_name in base_models:\n",
    "    model = TransferLearningModel(base_model_name, num_classes)\n",
    "    history = model.train(tf_dataset_train_augmented, tf_dataset_val, epochs=10, batch_size=8)\n",
    "    print(f\"Training and validation loss for {base_model_name}:\")\n",
    "    model.plot_training_history(history)"
   ]
  },
  {
   "cell_type": "markdown",
   "metadata": {},
   "source": [
    "#### (v) Model Evaluation:"
   ]
  },
  {
   "cell_type": "markdown",
   "metadata": {},
   "source": [
    "Report Precision, Recall, and F1 score for the transfer learning model."
   ]
  },
  {
   "cell_type": "code",
   "execution_count": null,
   "metadata": {},
   "outputs": [],
   "source": [
    "from sklearn.metrics import classification_report\n",
    "test_predictions = model.predict(tf_dataset_test)\n",
    "test_predictions_labels = np.argmax(test_predictions, axis=1)  \n",
    "test_labels = np.concatenate([y.numpy() for _, y in tf_dataset_test])\n",
    "report = classification_report(test_labels, test_predictions_labels)\n",
    "print(report)"
   ]
  },
  {
   "cell_type": "markdown",
   "metadata": {},
   "source": [
    "#### (vi) Comparative Analysis:"
   ]
  },
  {
   "cell_type": "markdown",
   "metadata": {},
   "source": [
    "Transfer Learning (ResNet50) Model:\n",
    "\n",
    "Validation Accuracy: 32.18% (after 5 epochs)\n",
    "Validation Loss: 1.1726 (after 5 epochs)\n",
    "Training time: Approximately 1 hour per epoch\n",
    "\n",
    "CNN + MLP Model:\n",
    "\n",
    "Validation Accuracy: Approximately 32.18% (after 15 epochs)\n",
    "Validation Loss: Approximately 2.8394 (after 15 epochs)\n",
    "Training time: Approximately 40 min per epoch \n",
    "\n",
    "Comparison and Explanation:\n",
    "\n",
    "Validation Accuracy: Both models achieved similar validation accuracies of approximately 32.18%, indicating that they performed at a comparable level for your binary classification task. The validation accuracy of the Transfer Learning model was reached faster (after 5 epochs) compared to the CNN + MLP model (after 15 epochs).\n",
    "\n",
    "Validation Loss: The validation loss for the Transfer Learning model was lower (1.1726) compared to the CNN + MLP model (3.0797) after the respective epochs. This suggests that the Transfer Learning model was able to generalize better and reduce its loss, indicating better model performance.\n",
    "\n",
    "Training Time: The Transfer Learning model took longer to train, with approximately 1 hour per epoch, while the CNN + MLP model trained faster, with approximately 40 minutes per epoch. This suggests that the Transfer Learning model, with its larger architecture and pre-trained weights, required more computational resources and time for training.\n",
    "\n",
    "In summary, the Transfer Learning model (ResNet50) showed advantages in terms of faster convergence in terms of accuracy and lower validation loss compared to the CNN + MLP model. However, it came at the cost of longer training times. "
   ]
  }
 ],
 "metadata": {
  "kernelspec": {
   "display_name": "Python 3 (ipykernel)",
   "language": "python",
   "name": "python3"
  },
  "language_info": {
   "codemirror_mode": {
    "name": "ipython",
    "version": 3
   },
   "file_extension": ".py",
   "mimetype": "text/x-python",
   "name": "python",
   "nbconvert_exporter": "python",
   "pygments_lexer": "ipython3",
   "version": "3.11.5"
  }
 },
 "nbformat": 4,
 "nbformat_minor": 2
}
